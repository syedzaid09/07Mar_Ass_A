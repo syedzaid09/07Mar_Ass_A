{
 "cells": [
  {
   "cell_type": "code",
   "execution_count": 1,
   "id": "423b65aa-89ad-4567-a6cb-2cf6fe481e60",
   "metadata": {},
   "outputs": [],
   "source": [
    "# Qus 1"
   ]
  },
  {
   "cell_type": "raw",
   "id": "4d79b4df-a09e-4d8b-a3c3-71cb28bb0607",
   "metadata": {},
   "source": [
    "1. Mean: The mean, also known as the average , is calculated by summing up all the values in a dataset and dividing by the total number of values. It represent the balance point or center of gravity of the dataset.\n",
    "2. Median: The median is the middle vslue in a dataset when the data is ordered from least to greatest . if there is an odd number of data points, the median is the middle value .if there us an even number of data points, the median is the average of the two middle values.\n",
    "3. Mode: The mode is the value that appears most freuently in a dataset . It is the value that occurs with the highest frequency."
   ]
  },
  {
   "cell_type": "code",
   "execution_count": 2,
   "id": "5e21ca76-bfc5-48f5-a3c4-e9d764ab1555",
   "metadata": {},
   "outputs": [],
   "source": [
    "# Qus 2"
   ]
  },
  {
   "cell_type": "raw",
   "id": "9d7abff9-bf24-4b82-8b11-1391eedd5f64",
   "metadata": {},
   "source": [
    "1. Mean: The mean, also known as the average , is calculated by summing up all the values in a dataset and dividing by the total number of values. It represent the balance point or center of gravity of the dataset.\n",
    "2. Median: The median is the middle vslue in a dataset when the data is ordered from least to greatest . if there is an odd number of data points, the median is the middle value .if there us an even number of data points, the median is the average of the two middle values.\n",
    "3. Mode: The mode is the value that appears most freuently in a dataset . It is the value that occurs with the highest frequency.\n",
    "\n",
    "How they measure Central Tendency:\n",
    ". Mean:Provides a measure of the central tendency by balancing all values equally . It is appropriate for symmetrically distributed data without outliers.\n",
    "\n",
    ".Median:Repersents the central value that divides the dataset into two equal halves. it is suitable for skewed distributions or datasets with outliers.\n",
    "\n",
    ".Mode:Identifiers the most frequently occuring value in the dataset. It is useful for identifying the typical category or value in the categorical data or discrete numerical data."
   ]
  },
  {
   "cell_type": "code",
   "execution_count": 3,
   "id": "f2dcfdcf-6453-4e64-b4bc-89c81047d591",
   "metadata": {},
   "outputs": [],
   "source": [
    "# Qus 3"
   ]
  },
  {
   "cell_type": "raw",
   "id": "ec3e7e98-6662-4643-8f1d-76a3548a6fbf",
   "metadata": {},
   "source": [
    "Data: [178, 177, 176, 177, 178.2, 178, 175, 179, 180, 175, 178.9, 176.2, 177, 172.5, 178, 176.5]\n",
    "n=16\n",
    "Mean:\n",
    "    (178+177+176+177+178.2+178+175+179+180+175+178.9+176.2+177+172.5+178+176.5)/16\n",
    "    Mean=2737.3/16~ 171.08125\n",
    " \n",
    "Median:\n",
    "   n=16(even),the median is the average of the 8th and 9th values.\n",
    "   Median=(176+176.2)/2=176.1\n",
    "    \n",
    "\n",
    "Mode:\n",
    "    The mode is 178 with a frequency of 4.\n",
    "    "
   ]
  },
  {
   "cell_type": "code",
   "execution_count": 5,
   "id": "eb560885-d7e5-4e64-be53-762df279c14b",
   "metadata": {},
   "outputs": [],
   "source": [
    "# Qus 4"
   ]
  },
  {
   "cell_type": "code",
   "execution_count": 13,
   "id": "ffae8ada-fdf8-4b09-98c4-acc431be3bcf",
   "metadata": {},
   "outputs": [
    {
     "name": "stdout",
     "output_type": "stream",
     "text": [
      "177.01875\n",
      "1.7885814036548633\n"
     ]
    }
   ],
   "source": [
    "import numpy as np\n",
    "Data=[178, 177, 176, 177, 178.2, 178, 175, 179, 180, 175, 178.9, 176.2, 177, 172.5, 178, 176.5]\n",
    "mean=np.mean(Data)\n",
    "std=np.std(Data)\n",
    "print(mean)\n",
    "\n",
    "print(std)"
   ]
  },
  {
   "cell_type": "code",
   "execution_count": 1,
   "id": "dc5f6a33-1b8c-44e7-adda-79041f90af3e",
   "metadata": {},
   "outputs": [],
   "source": [
    "# Qus 5"
   ]
  },
  {
   "cell_type": "raw",
   "id": "d5c72c16-5b8d-401e-a0f3-c6f47caac227",
   "metadata": {},
   "source": [
    "1. Range:\n",
    "    The range is the simplest measure of dispersion and is calculated as the difference between the maximum and minimum values in the dataset. It provides a quick indication of how spread out the data points are from each other.\n",
    "    Example:consider a dataset a ages of individuals in a sample:{20,25,22,30,18,35}\n",
    "    Range=Maximum-Minimum =35-18=17\n",
    "    \n",
    "2.Variance:\n",
    "    The variance measures the average squared deviation of each data point from the mean of the dataset.it provides a more comprehensivew view of how much the data points deviate from the mean,taking into account the distribution of values.\n",
    "    Example: \n",
    "        ages={20,25,22,30,18,35}\n",
    "        import numpy as np\n",
    "        var=np.var(ages)\n",
    "        print(var)\n",
    "    \n",
    "3.Standard Deviation: \n",
    "    The standard deviation is the square root of the variance and is often used because it is in the same units as the original data. it measures the typical or average amount of deviation of the data points from the mean .\n",
    "    Example:\n",
    "        std=np.std(ages)\n",
    "        print(std)\n",
    "\n",
    "    \n"
   ]
  },
  {
   "cell_type": "code",
   "execution_count": 2,
   "id": "33217f76-0616-403a-820e-ea3c75bc9c03",
   "metadata": {},
   "outputs": [],
   "source": [
    "# Qus 6"
   ]
  },
  {
   "cell_type": "raw",
   "id": "30249218-b456-4cfa-9fc4-a0c82fbfe098",
   "metadata": {},
   "source": [
    " A Venn diagram is a graphical representation used to show relationships between different sets of items. It consists of overlapping circles or other shapes,each representing a set. The overlapping areas show common elements shared by the sets.\n",
    "\n",
    "    Keys features of a venn diagram include:\n",
    "    1.Sets:Each circle or shape in a venn diagram represents a different sets of items or categories.\n",
    "    2.Overlap:Overlapping areas represent elements that belong to multiple sets.\n",
    "    3. Non-overlapping Regions:Regions outside of the overlaps represent elements that belong exclusilvely to one set and not to others.\n",
    "    4. Universal Set: The entirre space within the venn diagram represents the universe of discourse or all possible elements under consideration."
   ]
  },
  {
   "cell_type": "code",
   "execution_count": 1,
   "id": "0a632af6-e5a5-41b6-b8ea-636fee9169be",
   "metadata": {},
   "outputs": [],
   "source": [
    "# Qus 7"
   ]
  },
  {
   "cell_type": "raw",
   "id": "af0838d5-1ef3-4ccc-8f3d-6e23f4265aa8",
   "metadata": {},
   "source": [
    "1.Intersection A∩B:\n",
    "A∩B={x∣x∈A and x∈B}\n",
    "Elements common to both sets A and B are:\n",
    "A∩B={2,6}\n",
    "\n",
    "2.Union A∪B:\n",
    "A∪B={x∣x∈A or x∈B}\n",
    "\n",
    "Combine all unique elements from sets A and B:\n",
    "A∪B={0,2,3,4,5,6,7,8,10}\n"
   ]
  },
  {
   "cell_type": "code",
   "execution_count": 2,
   "id": "a11a8642-a581-439f-b41f-8889d5ffeb44",
   "metadata": {},
   "outputs": [],
   "source": [
    "# Qus 8"
   ]
  },
  {
   "cell_type": "raw",
   "id": "c2aad185-a6f4-40c4-b7e1-8ae1862fe6d6",
   "metadata": {},
   "source": [
    "Skewness in data is a statistical measure that describes the asymmetry of the probability distribution of a real-valued random variable. It indicates the lack of symmetry in a dataset's distribution. A dataset or distribution can be either positively skewed (skewed to the right), negatively skewed (skewed to the left), or approximately symmetric (no skewness)."
   ]
  },
  {
   "cell_type": "code",
   "execution_count": 3,
   "id": "47a1cc1d-8272-4276-befe-83933ee63312",
   "metadata": {},
   "outputs": [],
   "source": [
    "# Qus 9"
   ]
  },
  {
   "cell_type": "raw",
   "id": "97311350-0bf9-4ef4-80eb-c4bcd91abf1a",
   "metadata": {},
   "source": [
    "When a dataset is right skewed (positively skewed), the median will typically be less than the mean. This relationship between the median and the mean can be understood by considering the nature of right-skewed distributions.\n",
    "\n",
    "In a right-skewed distribution:\n",
    "\n",
    "The tail of the distribution (containing larger values) is longer or stretched out towards the right side.\n",
    "This elongated tail pulls the mean (average) towards the higher values in the dataset.\n",
    "Consequently, the mean is influenced by these larger values, causing it to be greater than the median."
   ]
  },
  {
   "cell_type": "code",
   "execution_count": null,
   "id": "97cf1206-81cc-4d99-a73a-9e82174151e1",
   "metadata": {},
   "outputs": [],
   "source": [
    "# Qus 10"
   ]
  },
  {
   "cell_type": "raw",
   "id": "8b9d181c-125d-4108-9894-cbc0d0f7b8df",
   "metadata": {},
   "source": [
    "# Covariance:\n",
    "Covariance measures how two variables vary together. It indicates the direction of the linear relationship between two variables (whether they move in the same direction or opposite directions) but does not indicate the strength of the relationship.\n",
    "Mathematically, the covariance cov(X,Y) between two random variables \n",
    "Covariance can take any value, positive or negative:\n",
    "Positive covariance (cov(X,Y)>0): Indicates that X and Y tend to increase or decrease together.\n",
    "Negative covariance (cov(X,Y)<0): Indicates that X increases when Y decreases, and vice versa.\n",
    "Zero covariance (cov(X,Y)=0): Indicates no linear relationship between X and Y.\n",
    "\n",
    "#Correlation:\n",
    "Correlation measures both the strength and direction of the linear relationship between two variables. It is a standardized measure, which means it is a unitless value ranging from -1 to 1.\n",
    "Correlation coefficient ρ ranges from -1 to 1:\n",
    "ρ=1: Perfect positive correlation (as one variable increases, the other variable increases proportionally).\n",
    "ρ=−1: Perfect negative correlation (as one variable increases, the other variable decreases proportionally).\n",
    "ρ=0: No linear correlation between X and Y."
   ]
  },
  {
   "cell_type": "code",
   "execution_count": 4,
   "id": "f63c7ac1-3e41-4b2c-abf8-43caa6a04d9e",
   "metadata": {},
   "outputs": [],
   "source": [
    "# Qus 11"
   ]
  },
  {
   "cell_type": "raw",
   "id": "8cb32030-772f-4287-a49b-43fbc6e306bf",
   "metadata": {},
   "source": [
    "The sample mean (often simply referred to as the \"mean\") is a measure of central tendency that represents the average value of a dataset. It is calculated by summing all the values in the dataset and then dividing by the total number of values in the dataset\n",
    "ˉx=1/n ∑Xi\n",
    "ˉx is the sample mean.\n",
    "n is the total number of observations in the dataset.\n",
    "Xi represents each individual value in the dataset.\n",
    "Example:\n",
    "    data={10,15,20,25,30}\n",
    "    import numpy as np\n",
    "    mean=np.mean(data)\n",
    "    print(mean)"
   ]
  },
  {
   "cell_type": "code",
   "execution_count": 5,
   "id": "a140df81-95cf-44eb-ae66-def50c79ae51",
   "metadata": {},
   "outputs": [],
   "source": [
    "# Qus 12"
   ]
  },
  {
   "cell_type": "raw",
   "id": "f8c7a4ea-1a86-4f0b-846f-24c0da9aee14",
   "metadata": {},
   "source": [
    "In a perfectly symmetric normal distribution, the mean (μ), median, and mode are all equal.\n",
    "The mean (μ) is always at the center of the distribution.\n",
    "Since the normal distribution is symmetric around its mean, the median (50th percentile) is also at the same location as the mean.\n",
    "The mode (peak of the distribution) coincides with the mean and median in a normal distribution.\n"
   ]
  },
  {
   "cell_type": "code",
   "execution_count": 6,
   "id": "35944c67-f2f0-407d-8044-f4e7889bd60e",
   "metadata": {},
   "outputs": [],
   "source": [
    "# Qus 13"
   ]
  },
  {
   "cell_type": "raw",
   "id": "dc5c2bc3-f687-4177-89b0-8cdbd2d0ceb2",
   "metadata": {},
   "source": [
    "Covariance:\n",
    "    Measures one thing.\n",
    "    Infinite range.\n",
    "    It has unit of measurement.\n",
    "    Scalable value.\n",
    "Correlation:\n",
    "    Measures two things.\n",
    "    Finite range.\n",
    "    Free of unit of measurement.\n",
    "    Non-scalable value."
   ]
  },
  {
   "cell_type": "code",
   "execution_count": 7,
   "id": "1472380e-3348-467b-9fc4-7eabe164b023",
   "metadata": {},
   "outputs": [],
   "source": [
    "# Qus 14"
   ]
  },
  {
   "cell_type": "code",
   "execution_count": null,
   "id": "a33f88d9-1089-472e-b1ac-6a69a0173f0a",
   "metadata": {},
   "outputs": [],
   "source": [
    "Measures of Central Tendency:\n",
    "    Mean:\n",
    "        Outliers can greatly influence the mean (average) of a dataset because the mean is sensitive to extreme values.\n",
    "        A single outlier with a very large or very small value can pull the mean towards it.\n",
    "        Example: Consider a dataset of salaries in a company where most employees earn between $40,000 and $60,000 per year, but the CEO earns $1,000,000 per year. The mean salary will be significantly higher due to the CEO's outlier salary.\n",
    "    Median:\n",
    "        The median is less affected by outliers compared to the mean.\n",
    "        Outliers have minimal impact on the median because it is the middle value when the data is sorted.\n",
    "        Example: In the same salary dataset, the median salary will still be representative of the typical salary range, unaffected by the extreme outlier (CEO's salary).\n",
    "                                                                                                                                                    \n",
    "    Mode:\n",
    "        Outliers generally do not affect the mode, which is the most frequently occurring value in the dataset.\n",
    "        The mode represents the peak of the distribution and is determined by the values with the highest frequencies.\n",
    "        Example: If most salaries in a dataset fall within a certain range, the mode will reflect this range regardless of outliers.\n",
    "        \n",
    "Measures of Dispersion:\n",
    "    Range:\n",
    "       Outliers can increase the range (difference between the maximum and minimum values) of the dataset.\n",
    "       If there are extreme values far from the bulk of the data, the range will be wider, reflecting greater variability.\n",
    "       Example: In a dataset of exam scores where most scores are between 60 and 80, an outlier score of 100 will increase the range. \n",
    "       \n",
    "    "
   ]
  }
 ],
 "metadata": {
  "kernelspec": {
   "display_name": "Python 3 (ipykernel)",
   "language": "python",
   "name": "python3"
  },
  "language_info": {
   "codemirror_mode": {
    "name": "ipython",
    "version": 3
   },
   "file_extension": ".py",
   "mimetype": "text/x-python",
   "name": "python",
   "nbconvert_exporter": "python",
   "pygments_lexer": "ipython3",
   "version": "3.10.8"
  }
 },
 "nbformat": 4,
 "nbformat_minor": 5
}
